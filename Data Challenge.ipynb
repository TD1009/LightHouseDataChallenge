{
 "cells": [
  {
   "cell_type": "code",
   "execution_count": 1,
   "metadata": {},
   "outputs": [],
   "source": [
    "# Challenge 1\n",
    "#hi\n"
   ]
  },
  {
   "cell_type": "code",
   "execution_count": 2,
   "metadata": {},
   "outputs": [],
   "source": [
    "# Challenge 2"
   ]
  },
  {
   "cell_type": "code",
   "execution_count": 3,
   "metadata": {},
   "outputs": [],
   "source": [
    "# Challenge 3\n",
    "layout = [\n",
    "    [\"O\",\"e\",\"e\",None, \"e\",\"o\",\"e\",None, \"o\",\"o\",\"E\"], # row 1\n",
    "    [\"O\",\"o\",\"e\",None, \"e\",\"o\",\"e\",None, \"e\",\"o\",\"E\"], # row 2\n",
    "    [\"O\",\"o\",\"o\",None, \"o\",\"o\",\"e\",None, \"o\",\"e\",\"O\"], # row 3\n",
    "    [\"E\",\"o\",\"e\",None, \"e\",\"o\",\"e\",None, \"o\",\"e\",\"E\"], # row 4 \n",
    "    [\"E\",\"e\",\"o\",None, \"e\",\"e\",\"e\",None, \"o\",\"o\",\"E\"], # row 5\n",
    "    [\"O\",\"e\",\"e\",None, \"e\",\"e\",\"e\",None, \"e\",\"e\",\"E\"]  # row 6\n",
    "]\n",
    "\n",
    "# seats must has a window seat and both of them are e.\n",
    "# E indicates window seat\n",
    "# prioritise the lower row"
   ]
  },
  {
   "cell_type": "code",
   "execution_count": 4,
   "metadata": {},
   "outputs": [
    {
     "name": "stdout",
     "output_type": "stream",
     "text": [
      "{'starters': 'Salami Platter', 'mains': 'Braised Beef Short Ribs', 'desserts': 'Chilled Chocolate Fondant', 'beers': 'Kong Ludwig Weissbier'}\n",
      "4.608\n"
     ]
    }
   ],
   "source": [
    "# Challenge 4\n",
    "\n",
    "starters = {\n",
    "    \"Potato Pancakes\": 7.99,\n",
    "    \"Salami Platter\": 10.29,\n",
    "    \"Brezel\": 6.99,\n",
    "    \"Maultaschen\": 9.99,\n",
    "    \"Fried Potatoes\": 4.99\n",
    "}\n",
    "\n",
    "mains = {\n",
    "    \"Braised Beef Short Ribs\": 18.99,\n",
    "    \"Paprika Beef Goulash\": 15.5,\n",
    "    \"Jager Schnitzel\": 16.99,\n",
    "    \"House-mase Bratwurst\": 11.99,\n",
    "    \"Kasespatzle\": 14.99,\n",
    "    \"German Ravioli\": 12.79,\n",
    "    \"Curry Wurst\": 10.99\n",
    "}\n",
    "\n",
    "desserts = {\n",
    "    \"Chilled Chocolate Fondant\": 7.9,\n",
    "    \"Pepermint Crisp Tart\": 5.9,\n",
    "    \"Ginger Cobbler\": 6.9,\n",
    "    \n",
    "}\n",
    "\n",
    "beers = {\n",
    "    \"Stigel Radler\": 6.9,\n",
    "    \"Munich Lager\": 7.9,\n",
    "    \"Kong Ludwig Weissbier\": 8.9,\n",
    "    \"Warsteiner Punkel\": 7.5,\n",
    "}\n",
    "\n",
    "# The customer will pick the most expensive dish of the course. Generate the a dictionary of the selected dished and calculate the tip (10%) amount.\n",
    "\n",
    "# find the most expensive dish of each course => using max()\n",
    "# instantiate a dictionary to contain key and value (the highest price)\n",
    "\n",
    "meals = {\n",
    "    \"starters\": max(starters, key=starters.get),\n",
    "    \"mains\": max(mains, key=mains.get),\n",
    "    \"desserts\": max(desserts, key=desserts.get),\n",
    "    \"beers\": max(beers, key=beers.get)\n",
    "}\n",
    "print(meals)\n",
    "meal_price = max(starters.values()) + max(mains.values()) + max(desserts.values()) + max(beers.values())\n",
    "meal_tip = meal_price * 0.1\n",
    "print(meal_tip)"
   ]
  },
  {
   "cell_type": "code",
   "execution_count": 5,
   "metadata": {},
   "outputs": [
    {
     "name": "stdout",
     "output_type": "stream",
     "text": [
      "1\n",
      "Big Ben\n",
      "2\n",
      "London Transport Museum\n",
      "3\n",
      "Wembley Stadium\n",
      "4\n",
      "Hyde Park\n",
      "5\n",
      "The View from The Shard\n"
     ]
    }
   ],
   "source": [
    "# challenge 5\n",
    "landmarks = {\n",
    "    \"Big Ben\": 12,\n",
    "    \"Tower Bridge\": 25,\n",
    "    \"Buckingham Palace\": 15,\n",
    "    \"Madame Tussauds\": 25,\n",
    "    \"London Eye\": 40,\n",
    "    \"Tower of London\": 25,\n",
    "    \"Emirates Air Line cable car\": 16,\n",
    "    \"London Transport Museum\": 7,\n",
    "    \"Wembley Stadium\": 8,\n",
    "    \"Hyde Park\": 0,\n",
    "    \"The View from The Shard\": 14\n",
    "}\n",
    "\n",
    "# find landmark which has visit time less than 15 min. List the places and how many places\n",
    "\n",
    "count = 0\n",
    "for i in range(len(landmarks)):\n",
    "    if list(landmarks.items())[i][1] < 15:\n",
    "        count = count + 1\n",
    "        print(count)\n",
    "        print(list(landmarks.items())[i][0])\n",
    "\n",
    "\n",
    "# more concise \n",
    "keys = list(landmarks.keys())\n",
    "values = list(landmarks.values())\n",
    "\n",
    "\n",
    "res = []\n",
    "for i in range(len(keys)):\n",
    "    if values[i] < 15:\n",
    "        res.append(keys[i])\n",
    "\n",
    "len(res)"
   ]
  },
  {
   "cell_type": "code",
   "execution_count": 1,
   "metadata": {},
   "outputs": [
    {
     "name": "stdout",
     "output_type": "stream",
     "text": [
      "15\n"
     ]
    }
   ],
   "source": [
    "# tag: function, if statement\n",
    "# Day 6: use function and if statement to navigate airplane to the slot\n",
    "\"\"\"There are 2 kinds of possible airplanes: **Narrow-Body (Single aisle)** or **Wide-Body**.\n",
    " - Wide-Body planes can only use gates in **W** spots.\n",
    " - Narrow-Body planes can use gates in either **N** or **W** spots.\n",
    "In the list of gates, gates are written in either lower-case or upper-case. An upper-case letter means that the particular gate is **AVAILABLE**, while a lower-case letter means that the gate is **UNAVAILABLE**.\n",
    "\n",
    "Our function must return a number with the position of the gate where the airplane can park. See the example input and output below for an illustration.\n",
    "\n",
    "**Note:** There may be multiple available spots for a particular airplane. If that happens, our function should return the first possible spot to minimize the airplane taxiing time. If there are no available gates, remember to return boolean value False.\n",
    "\"\"\"\n",
    "\n",
    "def find_the_gate(s, ve):\n",
    "    for i in range(len(s)):\n",
    "        if s[i] == 'W':\n",
    "            return i\n",
    "        elif s[i] == 'N':\n",
    "            if ve == 'narrow':\n",
    "                return i\n",
    "        else :\n",
    "            continue\n",
    "    return False\n",
    "s = ['w','n','n','w','N','n','w','N','N','w','n','n','w','n','n','W','W','W','W','n','n','w','n','n']\n",
    "ve = 'wide'\n",
    "print(find_the_gate(s, ve))"
   ]
  },
  {
   "cell_type": "code",
   "execution_count": null,
   "metadata": {},
   "outputs": [],
   "source": [
    "#tag: pandas - descriptive statistics\n",
    "# max, min, mode, mean, median\n",
    "#Day 07: provided a dataset of soccer\n",
    "import pandas as pd\n",
    "df = pd.read_csv('fc_barcelona.csv')\n",
    "df.head()\n",
    "\n",
    "points = df.Pts\n",
    "games_played = df.MP\n",
    "wins = df.W\n",
    "losses = df.L\n",
    "attendance = df.Attendance.dropna() # skipping missing values (NaN) because there were no fans during 2020-2021 season because of COVID\n",
    "\"\"\"\n",
    "What is the maximum amount of games Barcelona playes in 1 season?\n",
    "What is the average attendance across the seasons?\n",
    "What is the difference between median value of wins and losses?\n",
    "What is the minimum number of games Barcelona managed to win in 1 season?\n",
    "What is the difference between max and min amount of points Barcelona was able to get in all seasons?\n",
    "\"\"\"\n",
    "\n",
    "print(games_played.max())\n",
    "print(attendance.mean())\n",
    "print(wins.median() - losses.median())\n",
    "print(wins.min())\n",
    "print(points.max() - points.min())"
   ]
  },
  {
   "cell_type": "code",
   "execution_count": null,
   "metadata": {},
   "outputs": [],
   "source": [
    "#tag: pandas - built in functions:\n",
    "# head/tail, unique\n",
    "# describe,  shape, sort_values, info\n",
    "# idxmax, idxmin, loc, iloc\n",
    "#Day 08: provided a dataset of landmark in Paris and help the tourist find out which location to fit in the plan\n",
    "import pandas as pd\n",
    "df = pd.read_csv('paris_landmarks.csv')\n",
    "df.head()\n",
    "# What is the most expensive landmark in Paris?\n",
    "df.iloc[df['price'].idxmax()]['landmark']\n",
    "# What is the average wait time for all landmarks?\n",
    "df['queue_time'].mean()\n",
    "\n",
    "#comments: series\n",
    "#df.loc[df['price'].eq(15)]['queue_time'] gives you the queue time column for landmarks where the price is 15 => ? use filter instead "
   ]
  },
  {
   "cell_type": "code",
   "execution_count": null,
   "metadata": {},
   "outputs": [],
   "source": [
    "#tag: pandas - filter\n",
    "#Day 09: provided a dataset of wine\n",
    "# How many Italian wines have lower percentage of alcohol than 13%\n",
    "print(len(df[df.Alcohol < 13]))\n",
    "# How many wines are there in class 3?\n",
    "print(len(df[df.Class == 3]))\n",
    "# How many wines have level of magnesium between 90 and 100?\n",
    "print(len(df[df.Magnesium.between(90,100)]))\n",
    "# How many wines have level of magnesium higher than 90, and a percentage of alcohol lower than 13.5%?\n",
    "print(len(df[(df.Magnesium > 90) & (df.Alcohol < 13.5)]))\n",
    "\n",
    "#comments: Jupyter can display max 60 lines\n",
    "# ref: https://cmdlinetips.com/2018/02/how-to-subset-pandas-dataframe-based-on-values-of-a-column/"
   ]
  },
  {
   "cell_type": "code",
   "execution_count": null,
   "metadata": {},
   "outputs": [],
   "source": [
    "#tag: pandas - groupby, sorted\n",
    "#Day 10: provided a dataset of real eastate, there are several neighborhood with details price of each property.\n",
    "#Which neighborhood has the highest average property price and the highest size_in_sqft?\n",
    "import pandas as pd\n",
    "df = pd.read_csv('dubai_properties_data.csv')\n",
    "grouped = df.groupby('neighborhood')[['price','size_in_sqft']].mean()\n",
    "grouped.sort_values('price',ascending=False).head(1)\n",
    "grouped.sort_values('size_in_sqft',ascending=False).head(1)"
   ]
  },
  {
   "cell_type": "code",
   "execution_count": null,
   "metadata": {},
   "outputs": [],
   "source": [
    "#tag: pandas - generate new column from existing column\n",
    "# Day 11: provided a dataset of real eastate, there are several neighborhood with details price of each property.\n",
    "# which neighborhood has the biggest difference between maximum and minimum property price?\n",
    "import pandas as pd\n",
    "df = pd.read_csv('dubai_properties_data.csv')\n",
    "df.head()\n",
    "\n",
    "#step 1: find the min max price of each property\n",
    "dfgrouped = df.groupby(['neighborhood']).agg({'price' : ['min', 'max']})\n",
    "\n",
    "#step 2: find the gap between 2 columns \n",
    "# => Ref: New column derived from existing columns https://pandas.pydata.org/docs/getting_started/intro_tutorials/05_add_columns.html#\n",
    "# note: the column name is with 'price'\n",
    "dfgrouped[\"gap\"] = (dfgrouped['price', 'min'] - dfgrouped['price', 'max'])\n",
    "\n",
    "# step 3: find the highest gap = sort + display the top. It is by default that ascending = True but keep this habit for syntax.\n",
    "dfgrouped.sort_values('gap',ascending=True).head(1)\n",
    "\n",
    "#step 2: alternative\n",
    "# (dfgrouped.iloc[:,1] - dfgrouped.iloc[:,0]).sort_values(ascending=False).head()\n",
    "\n",
    "#Notice some interesting comments about other solutions - but no time to dig in + current solution is pretty clear to follow"
   ]
  },
  {
   "cell_type": "code",
   "execution_count": 13,
   "metadata": {},
   "outputs": [
    {
     "data": {
      "text/html": [
       "<div>\n",
       "<style scoped>\n",
       "    .dataframe tbody tr th:only-of-type {\n",
       "        vertical-align: middle;\n",
       "    }\n",
       "\n",
       "    .dataframe tbody tr th {\n",
       "        vertical-align: top;\n",
       "    }\n",
       "\n",
       "    .dataframe thead th {\n",
       "        text-align: right;\n",
       "    }\n",
       "</style>\n",
       "<table border=\"1\" class=\"dataframe\">\n",
       "  <thead>\n",
       "    <tr style=\"text-align: right;\">\n",
       "      <th></th>\n",
       "      <th>column1</th>\n",
       "      <th>column2</th>\n",
       "    </tr>\n",
       "  </thead>\n",
       "  <tbody>\n",
       "    <tr>\n",
       "      <th>index1</th>\n",
       "      <td>1</td>\n",
       "      <td>2</td>\n",
       "    </tr>\n",
       "    <tr>\n",
       "      <th>index2</th>\n",
       "      <td>3</td>\n",
       "      <td>4</td>\n",
       "    </tr>\n",
       "  </tbody>\n",
       "</table>\n",
       "</div>"
      ],
      "text/plain": [
       "        column1  column2\n",
       "index1        1        2\n",
       "index2        3        4"
      ]
     },
     "execution_count": 13,
     "metadata": {},
     "output_type": "execute_result"
    }
   ],
   "source": [
    "#tag: stack\n",
    "#ref: https://www.w3resource.com/pandas/dataframe/dataframe-unstack.php\n",
    "#     https://www.w3resource.com/pandas/dataframe/dataframe-stack.php\n",
    "import pandas as pd\n",
    "\n",
    "# we define the dataframe\n",
    "# Note: \n",
    "#   index = row; \n",
    "#   default value of columns and index run from 0, 1,... ; \n",
    "#   fill data by row\n",
    "#   transpose() between column and row\n",
    "#   print(df.index) could return index, MultiIndex (for stack), RangeIndex (default index value)\n",
    "df = pd.DataFrame([[1, 2], [3, 4]],\n",
    "            index=['index1', 'index2'],\n",
    "            columns=['column1', 'column2'])\n",
    "df"
   ]
  },
  {
   "cell_type": "code",
   "execution_count": null,
   "metadata": {},
   "outputs": [],
   "source": [
    "#Day 12: dataset of Australia cities with temperature \n",
    "# What is the difference between the average summer temperatures (using variable Temp9am) and the average winter temperatures (using variable Temp9am) for Adelaide, Albany and Albury?\n",
    "# filter\n",
    "seasons = ['summer', 'winter']\n",
    "Locations = ['Adelaide', 'Albany', 'Albury']\n",
    "grouped = df[df.season.isin(seasons) & df.Location.isin(Locations)]\n",
    "#group\n",
    "group = grouped.groupby(['Location', 'season'])['Temp9am'].mean()\n",
    "group\n",
    "#unstack\n",
    "unstack = group.unstack(level=-1)\n",
    "#calculate\n",
    "unstack.iloc[:,0] - unstack.iloc[:,1]"
   ]
  }
 ],
 "metadata": {
  "interpreter": {
   "hash": "5770de01e37162b6b9535f73ce6b17caab6174f94507ff8c82b4e900438badd2"
  },
  "kernelspec": {
   "display_name": "Python 3.10.2 64-bit",
   "language": "python",
   "name": "python3"
  },
  "language_info": {
   "codemirror_mode": {
    "name": "ipython",
    "version": 3
   },
   "file_extension": ".py",
   "mimetype": "text/x-python",
   "name": "python",
   "nbconvert_exporter": "python",
   "pygments_lexer": "ipython3",
   "version": "3.10.2"
  },
  "orig_nbformat": 4
 },
 "nbformat": 4,
 "nbformat_minor": 2
}
