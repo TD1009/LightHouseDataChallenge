{
 "cells": [
  {
   "cell_type": "code",
   "execution_count": null,
   "metadata": {},
   "outputs": [],
   "source": [
    "# Challenge 1\n"
   ]
  },
  {
   "cell_type": "code",
   "execution_count": null,
   "metadata": {},
   "outputs": [],
   "source": [
    "# Challenge 2"
   ]
  },
  {
   "cell_type": "code",
   "execution_count": null,
   "metadata": {},
   "outputs": [],
   "source": [
    "# Challenge 3\n",
    "layout = [\n",
    "    [\"O\",\"e\",\"e\",None, \"e\",\"o\",\"e\",None, \"o\",\"o\",\"E\"], # row 1\n",
    "    [\"O\",\"o\",\"e\",None, \"e\",\"o\",\"e\",None, \"e\",\"o\",\"E\"], # row 2\n",
    "    [\"O\",\"o\",\"o\",None, \"o\",\"o\",\"e\",None, \"o\",\"e\",\"O\"], # row 3\n",
    "    [\"E\",\"o\",\"e\",None, \"e\",\"o\",\"e\",None, \"o\",\"e\",\"E\"], # row 4 \n",
    "    [\"E\",\"e\",\"o\",None, \"e\",\"e\",\"e\",None, \"o\",\"o\",\"E\"], # row 5\n",
    "    [\"O\",\"e\",\"e\",None, \"e\",\"e\",\"e\",None, \"e\",\"e\",\"E\"]  # row 6\n",
    "]"
   ]
  },
  {
   "cell_type": "code",
   "execution_count": 1,
   "metadata": {},
   "outputs": [
    {
     "name": "stdout",
     "output_type": "stream",
     "text": [
      "{'starters': 'Salami Platter', 'mains': 'Braised Beef Short Ribs', 'desserts': 'Chilled Chocolate Fondant', 'beers': 'Kong Ludwig Weissbier'}\n",
      "4.608\n"
     ]
    }
   ],
   "source": [
    "# Challenge 4\n",
    "\n",
    "starters = {\n",
    "    \"Potato Pancakes\": 7.99,\n",
    "    \"Salami Platter\": 10.29,\n",
    "    \"Brezel\": 6.99,\n",
    "    \"Maultaschen\": 9.99,\n",
    "    \"Fried Potatoes\": 4.99\n",
    "}\n",
    "\n",
    "mains = {\n",
    "    \"Braised Beef Short Ribs\": 18.99,\n",
    "    \"Paprika Beef Goulash\": 15.5,\n",
    "    \"Jager Schnitzel\": 16.99,\n",
    "    \"House-mase Bratwurst\": 11.99,\n",
    "    \"Kasespatzle\": 14.99,\n",
    "    \"German Ravioli\": 12.79,\n",
    "    \"Curry Wurst\": 10.99\n",
    "}\n",
    "\n",
    "desserts = {\n",
    "    \"Chilled Chocolate Fondant\": 7.9,\n",
    "    \"Pepermint Crisp Tart\": 5.9,\n",
    "    \"Ginger Cobbler\": 6.9,\n",
    "    \n",
    "}\n",
    "\n",
    "beers = {\n",
    "    \"Stigel Radler\": 6.9,\n",
    "    \"Munich Lager\": 7.9,\n",
    "    \"Kong Ludwig Weissbier\": 8.9,\n",
    "    \"Warsteiner Punkel\": 7.5,\n",
    "}\n",
    "\n",
    "# The customer will pick the most expensive dish of the course. Generate the a dictionary of the selected dished and calculate the tip (10%) amount.\n",
    "\n",
    "# find the most expensive dish of each course => using max()\n",
    "# instantiate a dictionary to contain key and value (the highest price)\n",
    "\n",
    "meals = {\n",
    "    \"starters\": max(starters, key=starters.get),\n",
    "    \"mains\": max(mains, key=mains.get),\n",
    "    \"desserts\": max(desserts, key=desserts.get),\n",
    "    \"beers\": max(beers, key=beers.get)\n",
    "}\n",
    "print(meals)\n",
    "meal_price = max(starters.values()) + max(mains.values()) + max(desserts.values()) + max(beers.values())\n",
    "meal_tip = meal_price * 0.1\n",
    "print(meal_tip)"
   ]
  }
 ],
 "metadata": {
  "interpreter": {
   "hash": "5770de01e37162b6b9535f73ce6b17caab6174f94507ff8c82b4e900438badd2"
  },
  "kernelspec": {
   "display_name": "Python 3.10.2 64-bit",
   "language": "python",
   "name": "python3"
  },
  "language_info": {
   "codemirror_mode": {
    "name": "ipython",
    "version": 3
   },
   "file_extension": ".py",
   "mimetype": "text/x-python",
   "name": "python",
   "nbconvert_exporter": "python",
   "pygments_lexer": "ipython3",
   "version": "3.10.2"
  },
  "orig_nbformat": 4
 },
 "nbformat": 4,
 "nbformat_minor": 2
}
